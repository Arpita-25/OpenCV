{
 "cells": [
  {
   "cell_type": "code",
   "execution_count": 1,
   "metadata": {},
   "outputs": [],
   "source": [
    "import cv2"
   ]
  },
  {
   "cell_type": "markdown",
   "metadata": {},
   "source": [
    "# Reading Images"
   ]
  },
  {
   "cell_type": "code",
   "execution_count": 2,
   "metadata": {},
   "outputs": [],
   "source": [
    "# we will declare the variable in which we'll store the image\n",
    "# here we'll mention the path\n",
    "img_var = cv2.imread('bcs_profile_crop.jpeg')\n",
    "# to display the image\n",
    "# 2 arguments needed, name of window and name of the image\n",
    "cv2.imshow('Photo', img_var)\n",
    "# the no inside specifies the milliseconds for which the image appears\n",
    "# zero means infinite here\n",
    "# press escape key to exit the window\n",
    "cv2.waitKey(0)\n",
    "# destroyes all the windows\n",
    "cv2.destroyAllWindows()"
   ]
  },
  {
   "cell_type": "markdown",
   "metadata": {},
   "source": [
    "# Reading Videos\n",
    "## Importing a video"
   ]
  },
  {
   "cell_type": "code",
   "execution_count": 3,
   "metadata": {},
   "outputs": [],
   "source": [
    "# again we are specifying the variable for video frames\n",
    "# specify the path inside the brackets\n",
    "capture_var = cv2.VideoCapture('C:\\\\Users\\\\Lenovo\\\\Desktop\\\\handle later\\\\FER video.mp4')\n",
    "# video is just a sequence of images\n",
    "# while loop to go through each frame one by one\n",
    "while True:\n",
    "    detector, vid_var = capture_var.read()\n",
    "    # our image will be saved in vid_var\n",
    "    # detector is of type bool\n",
    "    # tells us if the image was saved successfully or not\n",
    "    cv2.imshow('Video', vid_var)\n",
    "    if cv2.waitKey(1) & 0xFF == ord('q'):\n",
    "        break\n",
    "# closes video file or capturing device\n",
    "capture_var.release()\n",
    "# destroys all the windows\n",
    "cv2.destroyAllWindows()"
   ]
  },
  {
   "cell_type": "markdown",
   "metadata": {},
   "source": [
    "# Reading a Webcam"
   ]
  },
  {
   "cell_type": "code",
   "execution_count": 4,
   "metadata": {},
   "outputs": [],
   "source": [
    "# similar to importing a video\n",
    "# in VideoCapture, we have to specify the Id of the webcam\n",
    "# (0) for default webcam\n",
    "web_var = cv2.VideoCapture(0)\n",
    "# length is Id 3\n",
    "web_var.set(3, 640)\n",
    "# height is Id 4\n",
    "web_var.set(4, 480)\n",
    "while True:\n",
    "    det, live_web_var = web_var.read()\n",
    "    cv2.imshow('Video', live_web_var)\n",
    "    if cv2.waitKey(1) & 0xFF == ord('q'):\n",
    "        break\n",
    "cv2.destroyAllWindows()\n",
    "web_var.release()"
   ]
  }
 ],
 "metadata": {
  "kernelspec": {
   "display_name": "Python 3",
   "language": "python",
   "name": "python3"
  },
  "language_info": {
   "codemirror_mode": {
    "name": "ipython",
    "version": 3
   },
   "file_extension": ".py",
   "mimetype": "text/x-python",
   "name": "python",
   "nbconvert_exporter": "python",
   "pygments_lexer": "ipython3",
   "version": "3.7.7"
  }
 },
 "nbformat": 4,
 "nbformat_minor": 4
}
